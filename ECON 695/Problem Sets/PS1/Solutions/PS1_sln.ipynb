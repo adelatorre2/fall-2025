{
 "cells": [
  {
   "cell_type": "markdown",
   "id": "0",
   "metadata": {},
   "source": [
    "Note: Write your code in the code cells, and your responses in markdown. \n",
    "Run the entire script and display the outputs of your code. Upload both your code (.ipynb) and responses (html or pdf) to Canvas.   \n",
    "\n",
    "<!-- Helpful tips on Markdown: - https://jupyter-notebook.readthedocs.io/en/stable/examples/Notebook/Working%20With%20Markdown%20Cells.html# -->"
   ]
  },
  {
   "cell_type": "markdown",
   "id": "1",
   "metadata": {},
   "source": [
    "# Simulation - Bernoulli\n",
    "Set up an Python program to conduct a simulation of drawing a sample size of $n$ from a Bernoulli distribution with mean $p$.  \n",
    "In each \"replication\" $r$ you will draw a sample, construct the estimated mean from that replication (which we will denote as $\\overline{Y}_r$) , and calculate the 95% confidence interval $(\\overline{Y}_r-1.96*s_r/\\sqrt{n},\\, \\overline{Y}_r-1.96*s_r/\\sqrt{n})$  where $s_r$ is the estimated standard deviation in that replication, $s_r=\\sqrt{\\overline{Y}_r*(1-\\overline{Y}_r)}$. In each replication, record the length of the confidence interval, and whether or not the true mean is inside the interval.  \n",
    "\n",
    "For given $(n, p)$, conduct $1,000$ replications are report the following statistics: \n",
    "\n",
    "1. the mean estimate of $p$\n",
    "    - plot the distribution of $\\overline{Y}_r$ (sample estimates of $p$) across replications. \n",
    "2. the mean estimate of the true standard deviation\n",
    "3. the fraction of time that the confidence interval contains the true $p$.  This is called the *coverage rate*. \n",
    "\n",
    "Conduct the analysis for the cases $n=30$ using $p=0.05$ and $p=0.25$,  and again for $n=60$ using $p=0.05$ and $p=0.25$  (a total of 4 cases). It is often claimed that $n$ of 30 or larger is enough to insure that asymptotic confidence intervals work well. Do you agree or not?"
   ]
  },
  {
   "cell_type": "markdown",
   "id": "2",
   "metadata": {},
   "source": [
    "**Answer** \n",
    "Recall Binomial$(n,p)$ is defined as $n$ independent Bernoulli trials with mean $p$. Binomial(1,p) is equivalent to Bernoulli(p). \n",
    "First, we create a function to run simulations. The inputs are $n$ = sample size in each replication, $p$ = true mean of the Bernoulli distribution, and $R$ = num. replications. \n",
    "The second function \"hist_phat\" will plot the histogram of the estimates for $p$. "
   ]
  },
  {
   "cell_type": "code",
   "execution_count": null,
   "id": "3",
   "metadata": {},
   "outputs": [],
   "source": [
    "import numpy as np \n",
    "np.random.seed(10)\n",
    "import matplotlib.pyplot as plt # for plotting \n",
    "import warnings\n",
    "warnings.filterwarnings('ignore')\n",
    "\n",
    "# function for the Bernoulli simulation: note: Bernoulli(p) is equivalent to Binomial(1,p)\n",
    "def bernoulli(n,p,R):\n",
    "    # inputs: n = sample size, p = true mean, R = num. replications \n",
    "    # save the sample mean/sd/coverage in each replication: \n",
    "    l_mean = []; l_sd = []; l_cover = []\n",
    "    for r in range(R):\n",
    "        data = np.random.binomial(1,p,n)    \n",
    "        # sample mean & sd:  \n",
    "        y_r, s_r = data.mean(), data.std()\n",
    "        # is p covered by the confidence interval? \n",
    "        ci_low = y_r - 1.96*s_r/np.sqrt(n)\n",
    "        ci_high = y_r +  1.96*s_r/np.sqrt(n)\n",
    "        cover_r = 0+ ((p>=ci_low) & (p<=ci_high))\n",
    "        # append to lists: \n",
    "        l_mean.append(y_r); l_sd.append(s_r); l_cover.append(cover_r)\n",
    "    # output: the list of means & standard deviations from R simulations\n",
    "    assert (R== len(l_mean)) & (R==len(l_sd))  & (R==len(l_cover))\n",
    "    return(l_mean, l_sd, l_cover)\n"
   ]
  },
  {
   "cell_type": "markdown",
   "id": "4",
   "metadata": {},
   "source": [
    "Now we run the simulation function for $n\\in\\{30,60\\}$, and $p\\in\\{0.05,0.25\\}$. "
   ]
  },
  {
   "cell_type": "code",
   "execution_count": null,
   "id": "5",
   "metadata": {},
   "outputs": [],
   "source": [
    "R = 1000 # num. replications\n",
    "l_n = [30,60]; l_p = [0.05,0.25]; \n",
    "\n",
    "for p in l_p:\n",
    "    for n in l_n:\n",
    "        print(f\"case: (n={n}, p ={p})\")\n",
    "        l_mean, l_sd, l_cover = bernoulli(n,p,R) \n",
    "        print(f\"mean estimate of p: {np.array(l_mean).mean()}\")\n",
    "        print(f\"mean estimate of sd: {np.array(l_sd).mean()}\")\n",
    "        print(f\"coverage: {np.array(l_cover).mean()}\")\n",
    "        # plot the estimates of p:\n",
    "        plt.figure(); plt.hist(np.array(l_mean), bins=30,alpha=0.25, edgecolor='black'); plt.xlabel(r\"$\\overline{Y}_r$: estimates of $p$, across 1000 replications\"); \n",
    "        plt.show()\n",
    "\n"
   ]
  },
  {
   "cell_type": "markdown",
   "id": "6",
   "metadata": {},
   "source": [
    "For true mean $p=0.05$, the coverage rates at $n=30$ or $n=60$ are around 0.80, which are pretty low. \n",
    "For true mean $p=0.25$, the coverage rates are higher, above 0.90 even for a small sample like $n=30$. The distribution of $\\overline{Y}$ across replications looks approximately normal for either $n=30$ or $n=60$. \n",
    "\n",
    "Why is the coverage different for $p=0.05$ vs. 0.25? Think about how the standard deviation converges to the truth: $\\hat{\\sigma} = \\sqrt{n} * \\sqrt{p(1 − p)}$. As $p$ gets close to 0 or 1, that will slow down the rate of convergence. This is especially true of small samples (small $n$). This is a known problem with binary random variables – for very rare events, the conventional wisdom of $n = 30$ breaks down. "
   ]
  },
  {
   "cell_type": "markdown",
   "id": "7",
   "metadata": {},
   "source": [
    "# Data analysis: Age Profile and Gender Gap in the Use of Cell Phone\n",
    "Download the dataset \"october_cps\", which is an extract of data from the October 2012 CPS.  \n",
    "\n",
    "There are several variables describing each person in the survey, including age, sex, \"educ\" (which is education, coded in a certain way) as well as variables about how someone uses their cell phone (if they have one): cell_use_phone, cell_use_msg, cell_use_video, cell_use_browse_web, cell_use_email, cell_use_games, cell_use_social_media, cell_use_download_apps, and cell_use_music.  Each of these is coded \"1\" if the person uses the cell phone for that use, \"2\" if not, and  (as a phone; for text messages, for video, to browse the web, for email for games, to access social media, to download apps, or to listen to music). \n",
    "\n",
    "1. Develop a graph to show how people of different ages use their cell phone. Be creative. \n",
    "2. In your sample, test whether males (sex=1) and females (sex=2) use their cell phone at the same rate for each of the 9 different uses.  "
   ]
  },
  {
   "cell_type": "markdown",
   "id": "8",
   "metadata": {},
   "source": [
    "## Age Profile\n",
    "According to the codebook, the cell_use*variables are coded as 1 if Yes, 2 if No (common practice in administrative surveys), -1 if no cell phone. We replace them by indicators for cell phone use in each task.  "
   ]
  },
  {
   "cell_type": "code",
   "execution_count": null,
   "id": "9",
   "metadata": {},
   "outputs": [],
   "source": [
    "import pandas as pd \n",
    "pd.options.display.max_columns = None\n",
    "import numpy as np \n",
    "# import os \n",
    "# os.chdir() # set the directory to where you saved the dataset \n",
    "\n",
    "# read data:\n",
    "oct = pd.read_csv(\"october_cps.csv\")\n",
    "print(oct.shape, oct.head(2))\n",
    "\n",
    "# note: according to the codebook, 1= Yes, 2 = No. Convert to indicators instead: \n",
    "vars= [x for x in oct.columns if 'cell_use' in x]\n",
    "for x in vars:\n",
    "    oct[x] = 0 + (oct[x]==1)\n"
   ]
  },
  {
   "cell_type": "markdown",
   "id": "10",
   "metadata": {},
   "source": [
    "Below is a function for plotting the fraction of individuals using cell phone for each task, against age. The input \"lab\" is a dictionary that specifies x-variable, y-variable(s), and parameters in the figure. "
   ]
  },
  {
   "cell_type": "code",
   "execution_count": null,
   "id": "11",
   "metadata": {},
   "outputs": [],
   "source": [
    "import matplotlib.pyplot as plt \n",
    "\n",
    "# define a function for plotting the age profile: \n",
    "def plot0(data, lab):  \n",
    "    # data: has mean(var) sd(var)\n",
    "    # lab: a dictionary with parameters/labels... for the figure \n",
    "    font_size = 11\n",
    "    x, Y = lab['xvar'], lab['yvar']\n",
    "    # setup figure\n",
    "    plt.clf(); plt.close('all') \n",
    "    fig, ax1 = plt.subplots(1,1)\n",
    "    fig.set_size_inches(15, 9)\n",
    "\n",
    "    # allow multiple lines (for multipe variables) \n",
    "    for j in range(len(Y)):\n",
    "        y = Y[j];  y_legend = lab['legend'][j]; \n",
    "        y_lcolor = lab['color'][j];  \n",
    "        if lab['error_bar']==0: \n",
    "            ax1.plot(data[x], data[y], linestyle=lab['line'][j], color= y_lcolor, lw=1.5, alpha=0.95,\n",
    "                        marker = lab['marker'][j], markersize=lab['msize'], \n",
    "                        label = y_legend)  \n",
    "        else: \n",
    "            ax1.errorbar(data[x], data[y], data[f'sd_{y}']*1.96, linestyle='-',color= y_lcolor, lw=1.5, alpha=0.95) # https://matplotlib.org/stable/api/markers_api.html '^'\n",
    "    ax1.set_xlabel(lab['xlab'], labelpad=10, fontsize=font_size)\n",
    "    ax1.set_ylabel(lab['ylab'], labelpad=10, fontsize=font_size)\n",
    "    # legend: \n",
    "    lines, labels = ax1.get_legend_handles_labels() \n",
    "    ax1.legend(lines,labels, loc=0); plt.legend(fontsize=font_size)\n",
    "    # xticks\n",
    "    if 'xticks_lab' in lab.keys():\n",
    "        ax1.set_xticks(lab['xticks'], labels= lab['xticks_lab'], rotation=45) # https://stackoverflow.com/questions/11244514/modify-tick-label-text\n",
    "    # title: \n",
    "    if 'title' in lab.keys():\n",
    "        if lab['title']!='':\n",
    "            fig.suptitle(lab['title'],fontsize=font_size+2)\n",
    "    # layout, save figure \n",
    "    fig.tight_layout()  # otherwise the right y-label is slightly clipped\n",
    "    ax1.spines['top'].set_visible(False)\n",
    "    ax1.spines['right'].set_visible(False)\n",
    "    plt.show()\n",
    "    # plt.savefig(lab['file'], bbox_inches='tight')\n",
    "    return()\n",
    "\n"
   ]
  },
  {
   "cell_type": "markdown",
   "id": "12",
   "metadata": {},
   "source": [
    "Now we are ready to plot the age profile. \"groupby(k)\" helps summarize the data by variable *k*. "
   ]
  },
  {
   "cell_type": "code",
   "execution_count": null,
   "id": "13",
   "metadata": {},
   "outputs": [],
   "source": [
    "# Age profile: (mean, sd) of cell-phone use by age: \n",
    "\n",
    "# Variables on cell phone use\n",
    "dict_stats = {x: ['mean','std'] for x in vars}\n",
    "\n",
    "# 1) by age: \n",
    "by_age = oct.groupby(['age']).agg(dict_stats).reset_index(drop=False) \n",
    "by_age.columns=[x[0] if x[1]!='std' else 'sd_'+x[0] for x in by_age.columns] \n",
    "print(by_age.shape,by_age.head(2))\n",
    "\n",
    "# create a dictionary for figure specifics: \n",
    "lab = {'xvar': 'age', 'yvar': vars, 'color': plt.get_cmap('Dark2', 9).colors, \n",
    "       'line':['-']*9,  \n",
    "        'marker': ['.','s','o','v','*','x','d','h','1'], 'msize':5, \n",
    "        'legend': [x.strip('cell_use_') for x in vars], \n",
    "        'error_bar':0, \n",
    "        'xlab':'Age','ylab':'Fraction who use phone',\n",
    "        'title': 'Age Profile of the Use of Cell Phone'} \n",
    "plot0(by_age, lab) "
   ]
  },
  {
   "cell_type": "markdown",
   "id": "14",
   "metadata": {},
   "source": [
    "Alternatively, we can define age groups first, and then plot the cell phone use by age group. The graph is cleaner. "
   ]
  },
  {
   "cell_type": "code",
   "execution_count": null,
   "id": "15",
   "metadata": {},
   "outputs": [],
   "source": [
    "# 2) by age group: \n",
    "oct['age_group'] = 1*(oct['age'].between(16,20)) + 2*(oct['age'].between(21,30)) + 3*(oct['age'].between(31,40)) + 4* (oct['age'].between(41,50)) + 5*(oct['age'].between(51,60)) + 6* (oct['age']>=61)\n",
    "print(oct.groupby(['age_group']).agg({'age':['min','max']})) \n",
    "by_age = oct.groupby(['age_group']).agg(dict_stats).reset_index(drop=False) \n",
    "by_age.columns=[x[0] if x[1]!='std' else 'sd_'+x[0] for x in by_age.columns] \n",
    "print(by_age.shape,by_age.head(2))\n",
    "\n",
    "lab = {'xvar': 'age_group', 'yvar': vars, \n",
    "       'color': plt.get_cmap('Dark2', 9).colors, \n",
    "       'line':['-']*9,  \n",
    "       'marker': ['.','s','o','v','*','x','d','h','1'], 'msize':8,\n",
    "        'xlab':'Age','ylab':'Fraction who use phone',\n",
    "        'legend': [x.strip('cell_use_') for x in vars], \n",
    "        'error_bar':0, \n",
    "        'title': 'Age Profile of the Use of Cell Phone',\n",
    "        'xticks':np.arange(1,7, step=1) , \n",
    "        'xticks_lab': ['16-20', '21-30','31-40','41-50','51-60','>60']\n",
    "} \n",
    "print(lab)\n",
    "plot0(by_age, lab) "
   ]
  },
  {
   "cell_type": "markdown",
   "id": "16",
   "metadata": {},
   "source": [
    "## Gender Gap\n",
    "Now we use groupby function again to summarize cell phone use by sex. "
   ]
  },
  {
   "cell_type": "code",
   "execution_count": null,
   "id": "17",
   "metadata": {},
   "outputs": [],
   "source": [
    "print(oct['sex'].value_counts(dropna=False))\n",
    "by_sex = oct.groupby(['sex']).agg(dict_stats).reset_index(drop=False) \n",
    "by_sex.columns=[x[0] if x[1]!='std' else 'sd_'+x[0] for x in by_sex.columns] \n",
    "n_F = (oct['sex']==2).sum(); \n",
    "n_M = (oct['sex']==1).sum() \n",
    "print(f'{n_F} females and {n_M} males in sample')"
   ]
  },
  {
   "cell_type": "markdown",
   "id": "18",
   "metadata": {},
   "source": [
    "To test if the mean for females and the mean for males are equal, we conduct a two-sample Welch's t-test (allowing for unequal variance). The t statistic is defined by: $$t \\coloneqq \\frac{\\bar{x}_F - \\bar{x}_M}{\\sqrt{s^2_F/n_F + s^2_M/n_M}}$$ where $\\bar{x}_F$ is the sample mean of $x$ among females, and $s^2_F/n_F$ is an estimate of the variance of the mean. "
   ]
  },
  {
   "cell_type": "code",
   "execution_count": null,
   "id": "19",
   "metadata": {},
   "outputs": [],
   "source": [
    "by_sex.head()"
   ]
  },
  {
   "cell_type": "code",
   "execution_count": null,
   "id": "20",
   "metadata": {},
   "outputs": [],
   "source": [
    "a = by_sex.loc[by_sex['sex']==2,x]\n",
    "print(a, a+1)\n",
    "print(type(a))"
   ]
  },
  {
   "cell_type": "code",
   "execution_count": null,
   "id": "21",
   "metadata": {},
   "outputs": [],
   "source": [
    "dict_ttest={} \n",
    "for x in vars:\n",
    "    print(f'variable = {x}')\n",
    "    mean_F = by_sex.loc[by_sex['sex']==2,x].tolist()[0]\n",
    "    mean_M = by_sex.loc[by_sex['sex']==1,x].tolist()[0]\n",
    "    s_F = by_sex.loc[by_sex['sex']==2,'sd_'+x].tolist()[0]\n",
    "    s_M = by_sex.loc[by_sex['sex']==1,'sd_'+x].tolist()[0]\n",
    "    t = (mean_F- mean_M) / (s_F**2 / n_F + s_M**2 / n_M )**0.5\n",
    "    print(f't = {t}')\n",
    "    dict_ttest.update({x : t})\n",
    "print(dict_ttest)"
   ]
  },
  {
   "cell_type": "markdown",
   "id": "22",
   "metadata": {},
   "source": [
    "Alternatively, using ttest in scipy: "
   ]
  },
  {
   "cell_type": "code",
   "execution_count": null,
   "id": "23",
   "metadata": {},
   "outputs": [],
   "source": [
    "import scipy.stats as stat\n",
    "for x in vars:\n",
    "    print(f'variable = {x}')\n",
    "    group1 = oct.loc[oct['sex']==2,x].tolist() \n",
    "    group2 = oct.loc[oct['sex']==1,x].tolist()\n",
    "    t,p = stat.ttest_ind(group1, group2, equal_var=False)\n",
    "    print(f't = {t}, p-value = {p}')\n"
   ]
  },
  {
   "cell_type": "markdown",
   "id": "24",
   "metadata": {},
   "source": [
    "The t-tests show that there is no siginificant gap between females and males in using cell phones for calls/browsing web. But females are more likely than to text, record videos, and use phone for social media. Males are significantly more likely to use phones for emails and music, and marginally significant (10% but not at 5% sig. level) more likely to download apps. "
   ]
  }
 ],
 "metadata": {
  "kernelspec": {
   "display_name": "Python 3",
   "language": "python",
   "name": "python3"
  },
  "language_info": {
   "codemirror_mode": {
    "name": "ipython",
    "version": 3
   },
   "file_extension": ".py",
   "mimetype": "text/x-python",
   "name": "python",
   "nbconvert_exporter": "python",
   "pygments_lexer": "ipython3",
   "version": "3.13.5"
  }
 },
 "nbformat": 4,
 "nbformat_minor": 5
}
